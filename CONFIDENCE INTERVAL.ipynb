{
 "cells": [
  {
   "cell_type": "markdown",
   "id": "afb6d0e3",
   "metadata": {},
   "source": [
    "# PROBABILITY DISTRIBUTIONS , CLT AND CONFIDENCE INTERVAL "
   ]
  },
  {
   "cell_type": "markdown",
   "id": "a7a8cd48",
   "metadata": {},
   "source": [
    "Importing the libraries"
   ]
  },
  {
   "cell_type": "code",
   "execution_count": 1,
   "id": "f4a0fef3",
   "metadata": {},
   "outputs": [],
   "source": [
    "import pandas as pd\n",
    "import numpy as np\n",
    "import matplotlib.pyplot as plt\n",
    "import seaborn as sns\n",
    "from termcolor import colored\n",
    "import scipy.stats as stats\n",
    "import pylab"
   ]
  },
  {
   "cell_type": "markdown",
   "id": "4e99307f",
   "metadata": {},
   "source": [
    "Loading the cars dataset using the pandas function"
   ]
  },
  {
   "cell_type": "code",
   "execution_count": 2,
   "id": "bdc8f658",
   "metadata": {},
   "outputs": [
    {
     "data": {
      "text/html": [
       "<div>\n",
       "<style scoped>\n",
       "    .dataframe tbody tr th:only-of-type {\n",
       "        vertical-align: middle;\n",
       "    }\n",
       "\n",
       "    .dataframe tbody tr th {\n",
       "        vertical-align: top;\n",
       "    }\n",
       "\n",
       "    .dataframe thead th {\n",
       "        text-align: right;\n",
       "    }\n",
       "</style>\n",
       "<table border=\"1\" class=\"dataframe\">\n",
       "  <thead>\n",
       "    <tr style=\"text-align: right;\">\n",
       "      <th></th>\n",
       "      <th>HP</th>\n",
       "      <th>MPG</th>\n",
       "      <th>VOL</th>\n",
       "      <th>SP</th>\n",
       "      <th>WT</th>\n",
       "    </tr>\n",
       "  </thead>\n",
       "  <tbody>\n",
       "    <tr>\n",
       "      <th>0</th>\n",
       "      <td>49</td>\n",
       "      <td>53.700681</td>\n",
       "      <td>89</td>\n",
       "      <td>104.185353</td>\n",
       "      <td>28.762059</td>\n",
       "    </tr>\n",
       "    <tr>\n",
       "      <th>1</th>\n",
       "      <td>55</td>\n",
       "      <td>50.013401</td>\n",
       "      <td>92</td>\n",
       "      <td>105.461264</td>\n",
       "      <td>30.466833</td>\n",
       "    </tr>\n",
       "    <tr>\n",
       "      <th>2</th>\n",
       "      <td>55</td>\n",
       "      <td>50.013401</td>\n",
       "      <td>92</td>\n",
       "      <td>105.461264</td>\n",
       "      <td>30.193597</td>\n",
       "    </tr>\n",
       "    <tr>\n",
       "      <th>3</th>\n",
       "      <td>70</td>\n",
       "      <td>45.696322</td>\n",
       "      <td>92</td>\n",
       "      <td>113.461264</td>\n",
       "      <td>30.632114</td>\n",
       "    </tr>\n",
       "    <tr>\n",
       "      <th>4</th>\n",
       "      <td>53</td>\n",
       "      <td>50.504232</td>\n",
       "      <td>92</td>\n",
       "      <td>104.461264</td>\n",
       "      <td>29.889149</td>\n",
       "    </tr>\n",
       "  </tbody>\n",
       "</table>\n",
       "</div>"
      ],
      "text/plain": [
       "   HP        MPG  VOL          SP         WT\n",
       "0  49  53.700681   89  104.185353  28.762059\n",
       "1  55  50.013401   92  105.461264  30.466833\n",
       "2  55  50.013401   92  105.461264  30.193597\n",
       "3  70  45.696322   92  113.461264  30.632114\n",
       "4  53  50.504232   92  104.461264  29.889149"
      ]
     },
     "execution_count": 2,
     "metadata": {},
     "output_type": "execute_result"
    }
   ],
   "source": [
    "cars=pd.read_csv(r\"D:\\360Digitmg\\ASSIGNMENTS\\Ass19\\probability dataset\\Cars.csv\")\n",
    "cars.head()"
   ]
  },
  {
   "cell_type": "markdown",
   "id": "5fe3088b",
   "metadata": {},
   "source": [
    "Understanding the cars dataset using the info function. "
   ]
  },
  {
   "cell_type": "code",
   "execution_count": 3,
   "id": "7ee96aaf",
   "metadata": {},
   "outputs": [
    {
     "name": "stdout",
     "output_type": "stream",
     "text": [
      "<class 'pandas.core.frame.DataFrame'>\n",
      "RangeIndex: 81 entries, 0 to 80\n",
      "Data columns (total 5 columns):\n",
      " #   Column  Non-Null Count  Dtype  \n",
      "---  ------  --------------  -----  \n",
      " 0   HP      81 non-null     int64  \n",
      " 1   MPG     81 non-null     float64\n",
      " 2   VOL     81 non-null     int64  \n",
      " 3   SP      81 non-null     float64\n",
      " 4   WT      81 non-null     float64\n",
      "dtypes: float64(3), int64(2)\n",
      "memory usage: 3.3 KB\n"
     ]
    }
   ],
   "source": [
    "cars.info()"
   ]
  },
  {
   "cell_type": "markdown",
   "id": "1b7bcff8",
   "metadata": {},
   "source": [
    "### FORMULA"
   ]
  },
  {
   "cell_type": "markdown",
   "id": "6f262a48",
   "metadata": {},
   "source": [
    "__P(A) = n(A)/n(S)__<br>\n",
    "P(A) is the probability of an event “A” n(A) is the number of favourable outcomes. n(S) is the total number of events in the sample space."
   ]
  },
  {
   "cell_type": "code",
   "execution_count": 10,
   "id": "b9496324",
   "metadata": {},
   "outputs": [
    {
     "data": {
      "text/plain": [
       "81"
      ]
     },
     "execution_count": 10,
     "metadata": {},
     "output_type": "execute_result"
    }
   ],
   "source": [
    "n_S=len(cars['MPG']<38)\n",
    "n_S"
   ]
  },
  {
   "cell_type": "markdown",
   "id": "3722105b",
   "metadata": {},
   "source": [
    "* __P(MPG>38)__"
   ]
  },
  {
   "cell_type": "code",
   "execution_count": 12,
   "id": "93e50aa1",
   "metadata": {},
   "outputs": [
    {
     "data": {
      "text/plain": [
       "33"
      ]
     },
     "execution_count": 12,
     "metadata": {},
     "output_type": "execute_result"
    }
   ],
   "source": [
    "n_A1=len(cars[cars['MPG']>38])\n",
    "n_A1"
   ]
  },
  {
   "cell_type": "code",
   "execution_count": 15,
   "id": "d9d5aadf",
   "metadata": {
    "scrolled": true
   },
   "outputs": [
    {
     "name": "stdout",
     "output_type": "stream",
     "text": [
      "\u001b[1m\u001b[34mThe probability of MPG greater than 38 is : \u001b[0m 0.4074074074074074\n"
     ]
    }
   ],
   "source": [
    "P_A1= n_A1/n_S\n",
    "print(colored('The probability of MPG greater than 38 is : ','blue',attrs=['bold']),P_A1)"
   ]
  },
  {
   "cell_type": "markdown",
   "id": "f7c56d23",
   "metadata": {},
   "source": [
    "* __P(MPG<40)__"
   ]
  },
  {
   "cell_type": "code",
   "execution_count": 16,
   "id": "eed4a6d8",
   "metadata": {},
   "outputs": [
    {
     "data": {
      "text/plain": [
       "61"
      ]
     },
     "execution_count": 16,
     "metadata": {},
     "output_type": "execute_result"
    }
   ],
   "source": [
    "n_A2=len(cars[cars['MPG']<40])\n",
    "n_A2"
   ]
  },
  {
   "cell_type": "code",
   "execution_count": 17,
   "id": "34674fe0",
   "metadata": {},
   "outputs": [
    {
     "name": "stdout",
     "output_type": "stream",
     "text": [
      "\u001b[1m\u001b[34mThe probability of MPG less than 40 is : \u001b[0m 0.7530864197530864\n"
     ]
    }
   ],
   "source": [
    "P_A2=n_A2/n_S\n",
    "print(colored('The probability of MPG less than 40 is : ','blue',attrs=['bold']),P_A2)"
   ]
  },
  {
   "cell_type": "markdown",
   "id": "70fa2814",
   "metadata": {},
   "source": [
    "* __P(20<MPG<50)__"
   ]
  },
  {
   "cell_type": "code",
   "execution_count": 27,
   "id": "fc4673d9",
   "metadata": {},
   "outputs": [
    {
     "data": {
      "text/plain": [
       "69"
      ]
     },
     "execution_count": 27,
     "metadata": {},
     "output_type": "execute_result"
    }
   ],
   "source": [
    "n_A3=len(cars[(cars['MPG']>20) & (cars['MPG']<50)])\n",
    "n_A3"
   ]
  },
  {
   "cell_type": "code",
   "execution_count": 28,
   "id": "ad6c9a3a",
   "metadata": {},
   "outputs": [
    {
     "name": "stdout",
     "output_type": "stream",
     "text": [
      "\u001b[1m\u001b[34mThe probability of MPG greater than 20 and less than 50 is : \u001b[0m 0.8518518518518519\n"
     ]
    }
   ],
   "source": [
    "P_A3=n_A3/n_S\n",
    "print(colored('The probability of MPG greater than 20 and less than 50 is : ','blue',attrs=['bold']),P_A3)"
   ]
  },
  {
   "cell_type": "markdown",
   "id": "84c7e2aa",
   "metadata": {},
   "source": [
    "Using the probplot to check whether the variables are following a normal distribution. "
   ]
  },
  {
   "cell_type": "code",
   "execution_count": 31,
   "id": "b52d6b19",
   "metadata": {},
   "outputs": [
    {
     "data": {
      "image/png": "[encoded data removed]",
      "text/plain": [
       "<Figure size 432x288 with 1 Axes>"
      ]
     },
     "metadata": {
      "needs_background": "light"
     },
     "output_type": "display_data"
    }
   ],
   "source": [
    "stats.probplot(cars.MPG, dist=\"norm\", plot=pylab)\n",
    "plt.title('Probability Plot for MPG')\n",
    "plt.show()"
   ]
  },
  {
   "cell_type": "markdown",
   "id": "0e24eebd",
   "metadata": {},
   "source": [
    "From the above probplot of the MPG variable of the cars dataset, we can say that it follows a normal distribution. "
   ]
  },
  {
   "cell_type": "markdown",
   "id": "438d490b",
   "metadata": {},
   "source": [
    "Loading the wc-at dataset to check whether they follow normal distribution or not. "
   ]
  },
  {
   "cell_type": "code",
   "execution_count": 32,
   "id": "5ea1f11e",
   "metadata": {},
   "outputs": [
    {
     "data": {
      "text/html": [
       "<div>\n",
       "<style scoped>\n",
       "    .dataframe tbody tr th:only-of-type {\n",
       "        vertical-align: middle;\n",
       "    }\n",
       "\n",
       "    .dataframe tbody tr th {\n",
       "        vertical-align: top;\n",
       "    }\n",
       "\n",
       "    .dataframe thead th {\n",
       "        text-align: right;\n",
       "    }\n",
       "</style>\n",
       "<table border=\"1\" class=\"dataframe\">\n",
       "  <thead>\n",
       "    <tr style=\"text-align: right;\">\n",
       "      <th></th>\n",
       "      <th>Waist</th>\n",
       "      <th>AT</th>\n",
       "    </tr>\n",
       "  </thead>\n",
       "  <tbody>\n",
       "    <tr>\n",
       "      <th>0</th>\n",
       "      <td>74.75</td>\n",
       "      <td>25.72</td>\n",
       "    </tr>\n",
       "    <tr>\n",
       "      <th>1</th>\n",
       "      <td>72.60</td>\n",
       "      <td>25.89</td>\n",
       "    </tr>\n",
       "    <tr>\n",
       "      <th>2</th>\n",
       "      <td>81.80</td>\n",
       "      <td>42.60</td>\n",
       "    </tr>\n",
       "    <tr>\n",
       "      <th>3</th>\n",
       "      <td>83.95</td>\n",
       "      <td>42.80</td>\n",
       "    </tr>\n",
       "    <tr>\n",
       "      <th>4</th>\n",
       "      <td>74.65</td>\n",
       "      <td>29.84</td>\n",
       "    </tr>\n",
       "  </tbody>\n",
       "</table>\n",
       "</div>"
      ],
      "text/plain": [
       "   Waist     AT\n",
       "0  74.75  25.72\n",
       "1  72.60  25.89\n",
       "2  81.80  42.60\n",
       "3  83.95  42.80\n",
       "4  74.65  29.84"
      ]
     },
     "execution_count": 32,
     "metadata": {},
     "output_type": "execute_result"
    }
   ],
   "source": [
    "df=pd.read_csv(r\"D:\\360Digitmg\\ASSIGNMENTS\\Ass19\\probability dataset\\wc-at.csv\")\n",
    "df.head()"
   ]
  },
  {
   "cell_type": "markdown",
   "id": "3baed7ff",
   "metadata": {},
   "source": [
    "Using the probplot to check whether the variables are following normal distribution. "
   ]
  },
  {
   "cell_type": "code",
   "execution_count": 35,
   "id": "e6da6a8e",
   "metadata": {},
   "outputs": [
    {
     "data": {
      "image/png": "[encoded data removed]",
      "text/plain": [
       "<Figure size 432x288 with 1 Axes>"
      ]
     },
     "metadata": {
      "needs_background": "light"
     },
     "output_type": "display_data"
    }
   ],
   "source": [
    "stats.probplot(df.Waist, dist=\"norm\", plot=pylab)\n",
    "plt.title('Probability Plot for Waist')\n",
    "plt.show()"
   ]
  },
  {
   "cell_type": "code",
   "execution_count": 36,
   "id": "d11b554a",
   "metadata": {},
   "outputs": [
    {
     "data": {
      "image/png": "[encoded data removed]",
      "text/plain": [
       "<Figure size 432x288 with 1 Axes>"
      ]
     },
     "metadata": {
      "needs_background": "light"
     },
     "output_type": "display_data"
    }
   ],
   "source": [
    "stats.probplot(df.AT, dist=\"norm\", plot=pylab)\n",
    "plt.title('Probability Plot for AT')\n",
    "plt.show()"
   ]
  },
  {
   "cell_type": "markdown",
   "id": "6936b9cd",
   "metadata": {},
   "source": [
    "From the above plots we can see that they dont exactly follow normal distribution"
   ]
  },
  {
   "cell_type": "code",
   "execution_count": null,
   "id": "8a4c4ce2",
   "metadata": {},
   "outputs": [],
   "source": []
  }
 ],
 "metadata": {
  "kernelspec": {
   "display_name": "Python 3 (ipykernel)",
   "language": "python",
   "name": "python3"
  },
  "language_info": {
   "codemirror_mode": {
    "name": "ipython",
    "version": 3
   },
   "file_extension": ".py",
   "mimetype": "text/x-python",
   "name": "python",
   "nbconvert_exporter": "python",
   "pygments_lexer": "ipython3",
   "version": "3.9.12"
  }
 },
 "nbformat": 4,
 "nbformat_minor": 5
}
